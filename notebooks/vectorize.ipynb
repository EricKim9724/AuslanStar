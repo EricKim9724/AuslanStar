{
 "cells": [
  {
   "cell_type": "code",
   "execution_count": null,
   "metadata": {},
   "outputs": [],
   "source": [
    "# import pandas as pd\n",
    "# word_definitions = pd.read_csv(\"word_definitions.csv\")\n",
    "# word_definitions = word_definitions.values.tolist()"
   ]
  },
  {
   "cell_type": "code",
   "execution_count": null,
   "metadata": {},
   "outputs": [],
   "source": [
    "# read words_definitions.csv and take first 10 rows into a new csv called test_words_definitions.csv\n",
    "# word_definitions[:10].to_csv(\"test_word_definitions.csv\", index=False)"
   ]
  },
  {
   "cell_type": "code",
   "execution_count": 1,
   "metadata": {},
   "outputs": [],
   "source": [
    "import boto3\n",
    "import os\n",
    "from dotenv import load_dotenv\n",
    "from langchain_community.embeddings import BedrockEmbeddings\n",
    "from langchain_community.vectorstores.pgvector import PGVector\n",
    "from langchain_community.document_loaders.csv_loader import CSVLoader\n",
    "\n",
    "load_dotenv()\n",
    "\n",
    "bedrock_client = boto3.client(\n",
    "    'bedrock-runtime',\n",
    "    \"us-east-1\",\n",
    ")\n",
    "\n",
    "embeddings = BedrockEmbeddings(\n",
    "    model_id='amazon.titan-embed-text-v1', client=bedrock_client\n",
    ")\n",
    "\n",
    "loader = CSVLoader(\n",
    "    file_path=\"./word_definitions.csv\"\n",
    ")\n",
    "docs = loader.load()\n",
    "\n",
    "COLLECTION_NAME = \"dictionary_embeddings\"\n",
    "DB_CONNECTION = os.getenv(\"DB_CONNECTION\")"
   ]
  },
  {
   "cell_type": "code",
   "execution_count": null,
   "metadata": {},
   "outputs": [],
   "source": [
    "# db = PGVector.from_documents(\n",
    "#     embedding=embeddings,\n",
    "#     documents=docs,\n",
    "#     collection_name=COLLECTION_NAME,\n",
    "#     connection_string=DB_CONNECTION,\n",
    "# )"
   ]
  },
  {
   "cell_type": "code",
   "execution_count": 2,
   "metadata": {},
   "outputs": [
    {
     "name": "stderr",
     "output_type": "stream",
     "text": [
      "/Library/Frameworks/Python.framework/Versions/3.11/lib/python3.11/site-packages/langchain_community/vectorstores/pgvector.py:293: LangChainPendingDeprecationWarning: Please use JSONB instead of JSON for metadata. This change will allow for more efficient querying that involves filtering based on metadata.Please note that filtering operators have been changed when using JSOB metadata to be prefixed with a $ sign to avoid name collisions with columns. If you're using an existing database, you will need to create adb migration for your metadata column to be JSONB and update your queries to use the new operators. \n",
      "  warn_deprecated(\n"
     ]
    }
   ],
   "source": [
    "query = \"testmake a text shorter by leaving only the important things\"\n",
    "\n",
    "store = PGVector(\n",
    "    collection_name=COLLECTION_NAME,\n",
    "    connection_string=DB_CONNECTION,\n",
    "    embedding_function=embeddings,\n",
    ")\n",
    "retriever = store.as_retriever()"
   ]
  },
  {
   "cell_type": "code",
   "execution_count": 3,
   "metadata": {},
   "outputs": [
    {
     "data": {
      "text/plain": [
       "[Document(page_content='word: shorten\\ndefinition: As Modifier: Used at the beginning of a sentence to mean that you will be brief and only give the important points. English = briefly. Idiomatic English = to cut a long story short.', metadata={'source': './word_definitions.csv', 'row': 38041}),\n",
       " Document(page_content='word: brief\\ndefinition: As a Verb or Adjective: To make an object smaller or an event take less time, especially a word or a phrase shorter by leaving out some of the letters; to make a text shorter by leaving only the important things. English = shorten, reduce, abbreviate; summarise.', metadata={'source': './word_definitions.csv', 'row': 10802}),\n",
       " Document(page_content='word: shorten\\ndefinition: As a Verb or Adjective: To make an object smaller or an event take less time, especially a word or a phrase shorter by leaving out some of the letters; to make a text shorter by leaving only the important things. English = shorten, reduce, abbreviate; summarise.', metadata={'source': './word_definitions.csv', 'row': 38039}),\n",
       " Document(page_content='word: short of\\ndefinition: As a Verb or Adjective: To make an object smaller or an event take less time, especially a word or a phrase shorter by leaving out some of the letters; to make a text shorter by leaving only the important things. English = shorten, reduce, abbreviate; summarise.', metadata={'source': './word_definitions.csv', 'row': 38055})]"
      ]
     },
     "execution_count": 3,
     "metadata": {},
     "output_type": "execute_result"
    }
   ],
   "source": [
    "retriever.get_relevant_documents(query)"
   ]
  }
 ],
 "metadata": {
  "kernelspec": {
   "display_name": "Python 3",
   "language": "python",
   "name": "python3"
  },
  "language_info": {
   "codemirror_mode": {
    "name": "ipython",
    "version": 3
   },
   "file_extension": ".py",
   "mimetype": "text/x-python",
   "name": "python",
   "nbconvert_exporter": "python",
   "pygments_lexer": "ipython3",
   "version": "3.11.8"
  }
 },
 "nbformat": 4,
 "nbformat_minor": 2
}
