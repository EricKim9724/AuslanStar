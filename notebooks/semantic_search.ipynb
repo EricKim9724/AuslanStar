{
 "cells": [
  {
   "cell_type": "code",
   "execution_count": 1,
   "metadata": {},
   "outputs": [
    {
     "name": "stdout",
     "output_type": "stream",
     "text": [
      "<class 'pandas.core.frame.DataFrame'>\n",
      "RangeIndex: 9289 entries, 0 to 9288\n",
      "Data columns (total 1 columns):\n",
      " #   Column            Non-Null Count  Dtype \n",
      "---  ------            --------------  ----- \n",
      " 0   entry_in_english  9288 non-null   object\n",
      "dtypes: object(1)\n",
      "memory usage: 72.7+ KB\n"
     ]
    }
   ],
   "source": [
    "import pandas as pd\n",
    "import gensim.downloader as api\n",
    "\n",
    "df = pd.read_csv(\"unique_words.csv\", index_col=False, header='infer')\n",
    "df.info()"
   ]
  },
  {
   "cell_type": "code",
   "execution_count": 2,
   "metadata": {},
   "outputs": [],
   "source": [
    "df['entry_in_english'] = df['entry_in_english'].astype(str)\n",
    "dictionary = df['entry_in_english'].tolist()"
   ]
  },
  {
   "cell_type": "code",
   "execution_count": 3,
   "metadata": {},
   "outputs": [],
   "source": [
    "# Use glove model\n",
    "model = api.load(\"glove-wiki-gigaword-100\")\n"
   ]
  },
  {
   "cell_type": "code",
   "execution_count": 4,
   "metadata": {},
   "outputs": [],
   "source": [
    "from sklearn.metrics.pairwise import cosine_similarity\n",
    "from collections import defaultdict\n",
    "\n",
    "def find_similar_words(search_word, dictionary, top_n=5):\n",
    "    similar_words = defaultdict(float)\n",
    "\n",
    "    # If the search word is in the dictionary, return it\n",
    "    if search_word in dictionary:\n",
    "        return [search_word]\n",
    "\n",
    "    # If the search word is not in the dictionary, find similar words\n",
    "    else:\n",
    "        if search_word in model.key_to_index:\n",
    "            search_vector = model[search_word]\n",
    "            for word in dictionary:\n",
    "                if word in model.key_to_index:\n",
    "                    similarity = cosine_similarity([model[word]], [search_vector])[0][0]\n",
    "                    similar_words[word] = similarity\n",
    "\n",
    "            # Sort similar words by similarity and return the top_n\n",
    "            similar_words = sorted(similar_words.items(), key=lambda x: x[1], reverse=True)[:top_n]\n",
    "            return [word[0] for word in similar_words]\n",
    "        else:\n",
    "            return []"
   ]
  },
  {
   "cell_type": "code",
   "execution_count": 5,
   "metadata": {},
   "outputs": [
    {
     "name": "stdout",
     "output_type": "stream",
     "text": [
      "The word does not exist in the dictionary. Here are some similar words:\n",
      "lot\n",
      "plenty\n",
      "few\n",
      "some\n",
      "little\n"
     ]
    }
   ],
   "source": [
    "# Example usage\n",
    "search_word = \"lots\"\n",
    "similar_words = find_similar_words(search_word, dictionary, 5)\n",
    "\n",
    "if len(similar_words) == 1 and similar_words[0] == search_word:\n",
    "    print(\"The word exists in the dictionary.\")\n",
    "else:\n",
    "    print(\"The word does not exist in the dictionary. Here are some similar words:\")\n",
    "    for word in similar_words:\n",
    "        print(word)"
   ]
  }
 ],
 "metadata": {
  "kernelspec": {
   "display_name": "Python 3",
   "language": "python",
   "name": "python3"
  },
  "language_info": {
   "codemirror_mode": {
    "name": "ipython",
    "version": 3
   },
   "file_extension": ".py",
   "mimetype": "text/x-python",
   "name": "python",
   "nbconvert_exporter": "python",
   "pygments_lexer": "ipython3",
   "version": "3.10.5"
  }
 },
 "nbformat": 4,
 "nbformat_minor": 2
}
