{
 "cells": [
  {
   "cell_type": "code",
   "execution_count": 1,
   "metadata": {},
   "outputs": [
    {
     "name": "stdout",
     "output_type": "stream",
     "text": [
      "  % Total    % Received % Xferd  Average Speed   Time    Time     Time  Current\n",
      "                                 Dload  Upload   Total   Spent    Left  Speed\n",
      "100 10.9M  100 10.9M    0     0  6448k      0  0:00:01  0:00:01 --:--:-- 6447k\n",
      "  % Total    % Received % Xferd  Average Speed   Time    Time     Time  Current\n",
      "                                 Dload  Upload   Total   Spent    Left  Speed\n",
      "100 16.3M  100 16.3M    0     0  6474k      0  0:00:02  0:00:02 --:--:-- 6475k\n"
     ]
    }
   ],
   "source": [
    "# download data file from sources if havent already\n",
    "!curl -O \"https://raw.githubusercontent.com/banool/auslan_dictionary/master/assets/data/data.json\"\n",
    "!curl -O \"https://raw.githubusercontent.com/banool/auslan_dictionary/master/assets/data/words_latest.json\""
   ]
  },
  {
   "cell_type": "code",
   "execution_count": 2,
   "metadata": {},
   "outputs": [],
   "source": [
    "import pandas as pd\n",
    "import json"
   ]
  },
  {
   "cell_type": "code",
   "execution_count": 3,
   "metadata": {},
   "outputs": [],
   "source": [
    "# display jsonified data in pretty format\n",
    "import json\n",
    "\n",
    "# load data.json\n",
    "with open('data.json') as f:\n",
    "    json_file = json.load(f)"
   ]
  },
  {
   "cell_type": "code",
   "execution_count": 4,
   "metadata": {},
   "outputs": [],
   "source": [
    "data = json_file[\"data\"]\n",
    "# print(json.dumps(data, indent=4))"
   ]
  },
  {
   "cell_type": "code",
   "execution_count": 5,
   "metadata": {},
   "outputs": [],
   "source": [
    "words = []\n",
    "video_urls = []\n",
    "\n",
    "# Extract data from JSON\n",
    "for entry in data:\n",
    "    words.append(entry[\"entry_in_english\"])\n",
    "    # for every sub_entries in the data, extract the video url\n",
    "    video_list = [sub_entry[\"video_links\"] for sub_entry in entry[\"sub_entries\"]]\n",
    "    video_urls.append(video_list)\n",
    "\n",
    "df = pd.DataFrame({\n",
    "    \"entry_in_english\": words,\n",
    "    \"list_of_video_urls\": video_urls\n",
    "})"
   ]
  },
  {
   "cell_type": "code",
   "execution_count": 6,
   "metadata": {},
   "outputs": [
    {
     "data": {
      "text/html": [
       "<div>\n",
       "<style scoped>\n",
       "    .dataframe tbody tr th:only-of-type {\n",
       "        vertical-align: middle;\n",
       "    }\n",
       "\n",
       "    .dataframe tbody tr th {\n",
       "        vertical-align: top;\n",
       "    }\n",
       "\n",
       "    .dataframe thead th {\n",
       "        text-align: right;\n",
       "    }\n",
       "</style>\n",
       "<table border=\"1\" class=\"dataframe\">\n",
       "  <thead>\n",
       "    <tr style=\"text-align: right;\">\n",
       "      <th></th>\n",
       "      <th>entry_in_english</th>\n",
       "      <th>list_of_video_urls</th>\n",
       "    </tr>\n",
       "  </thead>\n",
       "  <tbody>\n",
       "    <tr>\n",
       "      <th>0</th>\n",
       "      <td>a, A</td>\n",
       "      <td>[[https://media.auslan.org.au/mp4video/56/5649...</td>\n",
       "    </tr>\n",
       "    <tr>\n",
       "      <th>1</th>\n",
       "      <td>abattoir</td>\n",
       "      <td>[[https://object-store.rc.nectar.org.au/v1/AUT...</td>\n",
       "    </tr>\n",
       "    <tr>\n",
       "      <th>2</th>\n",
       "      <td>abbreviate</td>\n",
       "      <td>[[https://object-store.rc.nectar.org.au/v1/AUT...</td>\n",
       "    </tr>\n",
       "    <tr>\n",
       "      <th>3</th>\n",
       "      <td>abbreviation</td>\n",
       "      <td>[[https://object-store.rc.nectar.org.au/v1/AUT...</td>\n",
       "    </tr>\n",
       "    <tr>\n",
       "      <th>4</th>\n",
       "      <td>abdomen</td>\n",
       "      <td>[[https://object-store.rc.nectar.org.au/v1/AUT...</td>\n",
       "    </tr>\n",
       "    <tr>\n",
       "      <th>...</th>\n",
       "      <td>...</td>\n",
       "      <td>...</td>\n",
       "    </tr>\n",
       "    <tr>\n",
       "      <th>9284</th>\n",
       "      <td>spreadsheet</td>\n",
       "      <td>[[https://object-store.rc.nectar.org.au/v1/AUT...</td>\n",
       "    </tr>\n",
       "    <tr>\n",
       "      <th>9285</th>\n",
       "      <td>sexual</td>\n",
       "      <td>[[https://object-store.rc.nectar.org.au/v1/AUT...</td>\n",
       "    </tr>\n",
       "    <tr>\n",
       "      <th>9286</th>\n",
       "      <td>bother (can not be bothered)</td>\n",
       "      <td>[[https://object-store.rc.nectar.org.au/v1/AUT...</td>\n",
       "    </tr>\n",
       "    <tr>\n",
       "      <th>9287</th>\n",
       "      <td>first (of all)</td>\n",
       "      <td>[[https://object-store.rc.nectar.org.au/v1/AUT...</td>\n",
       "    </tr>\n",
       "    <tr>\n",
       "      <th>9288</th>\n",
       "      <td>fourth born</td>\n",
       "      <td>[[https://object-store.rc.nectar.org.au/v1/AUT...</td>\n",
       "    </tr>\n",
       "  </tbody>\n",
       "</table>\n",
       "<p>9289 rows × 2 columns</p>\n",
       "</div>"
      ],
      "text/plain": [
       "                  entry_in_english  \\\n",
       "0                             a, A   \n",
       "1                         abattoir   \n",
       "2                       abbreviate   \n",
       "3                     abbreviation   \n",
       "4                          abdomen   \n",
       "...                            ...   \n",
       "9284                   spreadsheet   \n",
       "9285                        sexual   \n",
       "9286  bother (can not be bothered)   \n",
       "9287                first (of all)   \n",
       "9288                   fourth born   \n",
       "\n",
       "                                     list_of_video_urls  \n",
       "0     [[https://media.auslan.org.au/mp4video/56/5649...  \n",
       "1     [[https://object-store.rc.nectar.org.au/v1/AUT...  \n",
       "2     [[https://object-store.rc.nectar.org.au/v1/AUT...  \n",
       "3     [[https://object-store.rc.nectar.org.au/v1/AUT...  \n",
       "4     [[https://object-store.rc.nectar.org.au/v1/AUT...  \n",
       "...                                                 ...  \n",
       "9284  [[https://object-store.rc.nectar.org.au/v1/AUT...  \n",
       "9285  [[https://object-store.rc.nectar.org.au/v1/AUT...  \n",
       "9286  [[https://object-store.rc.nectar.org.au/v1/AUT...  \n",
       "9287  [[https://object-store.rc.nectar.org.au/v1/AUT...  \n",
       "9288  [[https://object-store.rc.nectar.org.au/v1/AUT...  \n",
       "\n",
       "[9289 rows x 2 columns]"
      ]
     },
     "execution_count": 6,
     "metadata": {},
     "output_type": "execute_result"
    }
   ],
   "source": [
    "df"
   ]
  },
  {
   "cell_type": "code",
   "execution_count": 7,
   "metadata": {},
   "outputs": [],
   "source": [
    "# save unique words into csv\n",
    "df_unique = df.drop_duplicates(subset=[\"entry_in_english\"])\n",
    "df_unique = df_unique.drop(columns=[\"list_of_video_urls\"])\n",
    "df_unique.to_csv(\"unique_words.csv\", index=False, header=False)\n"
   ]
  }
 ],
 "metadata": {
  "kernelspec": {
   "display_name": "Python 3",
   "language": "python",
   "name": "python3"
  },
  "language_info": {
   "codemirror_mode": {
    "name": "ipython",
    "version": 3
   },
   "file_extension": ".py",
   "mimetype": "text/x-python",
   "name": "python",
   "nbconvert_exporter": "python",
   "pygments_lexer": "ipython3",
   "version": "3.11.8"
  }
 },
 "nbformat": 4,
 "nbformat_minor": 2
}
