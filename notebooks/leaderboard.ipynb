{
 "cells": [
  {
   "cell_type": "code",
   "execution_count": 16,
   "metadata": {},
   "outputs": [],
   "source": [
    "import os\n",
    "from dotenv import load_dotenv\n",
    "\n",
    "load_dotenv()\n",
    "\n",
    "DB_PASSWORD = os.getenv(\"DB_2_PASSWORD\")\n",
    "\n",
    "# Connect to the database\n",
    "import psycopg2\n",
    "\n",
    "conn = psycopg2.connect(\n",
    "    host=\"aws-0-ap-southeast-2.pooler.supabase.com\",\n",
    "    database=\"postgres\",\n",
    "    port=\"5432\",\n",
    "    user=\"postgres.fmiingbslrmucisgzxla\",\n",
    "    password=DB_PASSWORD\n",
    ")"
   ]
  },
  {
   "cell_type": "code",
   "execution_count": 7,
   "metadata": {},
   "outputs": [],
   "source": [
    "cur = conn.cursor()\n",
    "# Create leaderboard table\n",
    "cur.execute(\n",
    "    \"\"\"\n",
    "    CREATE TABLE IF NOT EXISTS leaderboard_m3 (\n",
    "        id SERIAL PRIMARY KEY,\n",
    "        username VARCHAR(50) NOT NULL,\n",
    "        score INT NOT NULL\n",
    "    )\n",
    "    \"\"\"\n",
    ")\n",
    "conn.commit()\n",
    "conn.close()\n",
    "cur.close()"
   ]
  },
  {
   "cell_type": "code",
   "execution_count": 17,
   "metadata": {},
   "outputs": [],
   "source": [
    "cur = conn.cursor()\n",
    "# Create leaderboard table\n",
    "cur.execute(\n",
    "    \"\"\"\n",
    "    INSERT INTO leaderboard_m2 (username, score) VALUES\n",
    "    ('user7', 10),\n",
    "    ('user8', 15),\n",
    "    ('user9', 20);\n",
    "    \"\"\"\n",
    ")\n",
    "conn.commit()\n",
    "conn.close()\n",
    "cur.close()"
   ]
  }
 ],
 "metadata": {
  "kernelspec": {
   "display_name": "Python 3",
   "language": "python",
   "name": "python3"
  },
  "language_info": {
   "codemirror_mode": {
    "name": "ipython",
    "version": 3
   },
   "file_extension": ".py",
   "mimetype": "text/x-python",
   "name": "python",
   "nbconvert_exporter": "python",
   "pygments_lexer": "ipython3",
   "version": "3.11.8"
  }
 },
 "nbformat": 4,
 "nbformat_minor": 2
}
